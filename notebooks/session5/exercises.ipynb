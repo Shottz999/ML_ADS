{
 "cells": [
  {
   "cell_type": "code",
   "outputs": [],
   "source": [],
   "metadata": {
    "collapsed": false
   },
   "id": "db6d74b4116465f1"
  },
  {
   "cell_type": "code",
   "outputs": [],
   "source": [
    "# load iris\n",
    "\n",
    "\n"
   ],
   "metadata": {
    "collapsed": false,
    "ExecuteTime": {
     "end_time": "2024-02-21T17:26:59.105023666Z",
     "start_time": "2024-02-21T17:26:59.102681568Z"
    }
   },
   "id": "294c3fa822a003c9",
   "execution_count": 1
  },
  {
   "cell_type": "code",
   "outputs": [],
   "source": [
    "# do some initial exploratory data analysis\n",
    "# add code here\n"
   ],
   "metadata": {
    "collapsed": false
   },
   "id": "380af4a31a4ec8d2"
  },
  {
   "cell_type": "code",
   "outputs": [],
   "source": [
    "# check for missing values in the dataset\n",
    "# add code here\n"
   ],
   "metadata": {
    "collapsed": false
   },
   "id": "381d5adf9d497c3"
  },
  {
   "cell_type": "code",
   "outputs": [],
   "source": [
    "# if any, impute the missing values with the mean of the column\n",
    "# add code here\n"
   ],
   "metadata": {
    "collapsed": false
   },
   "id": "7b359753823cde15"
  },
  {
   "cell_type": "code",
   "outputs": [],
   "source": [
    "# scale the features using StandardScaler\n",
    "# add code here\n"
   ],
   "metadata": {
    "collapsed": false
   },
   "id": "d1de5eac0e45df40"
  },
  {
   "cell_type": "code",
   "outputs": [],
   "source": [
    "# perform hierarchical clustering on the dataset\n",
    "# add code here\n"
   ],
   "metadata": {
    "collapsed": false
   },
   "id": "1097441d7f32e81f"
  },
  {
   "cell_type": "code",
   "outputs": [],
   "source": [
    "# plot the dendrogram\n",
    "# add code here\n"
   ],
   "metadata": {
    "collapsed": false
   },
   "id": "19b27f0bd830e710"
  },
  {
   "cell_type": "code",
   "outputs": [],
   "source": [
    "# test different linkage methods and metrics and compare the results\n",
    "# add code here\n"
   ],
   "metadata": {
    "collapsed": false
   },
   "id": "3b95da9bb26a6c3f"
  },
  {
   "cell_type": "code",
   "outputs": [],
   "source": [
    "# perform k-means clustering on the dataset\n",
    "# add code here\n"
   ],
   "metadata": {
    "collapsed": false
   },
   "id": "babb15997e8f3b7a"
  },
  {
   "cell_type": "code",
   "outputs": [],
   "source": [
    "# use the elbow method to find the optimal number of clusters\n",
    "# add code here\n"
   ],
   "metadata": {
    "collapsed": false
   },
   "id": "6360c584a2eb772e"
  },
  {
   "cell_type": "code",
   "outputs": [],
   "source": [
    "# compare the results of hierarchical and k-means clustering\n",
    "#"
   ],
   "metadata": {
    "collapsed": false
   },
   "id": "a2df0b820c711d44"
  }
 ],
 "metadata": {
  "kernelspec": {
   "display_name": "Python 3",
   "language": "python",
   "name": "python3"
  },
  "language_info": {
   "codemirror_mode": {
    "name": "ipython",
    "version": 2
   },
   "file_extension": ".py",
   "mimetype": "text/x-python",
   "name": "python",
   "nbconvert_exporter": "python",
   "pygments_lexer": "ipython2",
   "version": "2.7.6"
  }
 },
 "nbformat": 4,
 "nbformat_minor": 5
}
